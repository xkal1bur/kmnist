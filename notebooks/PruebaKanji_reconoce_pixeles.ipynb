{
 "cells": [
  {
   "metadata": {},
   "cell_type": "markdown",
   "source": "**Librerías a utilizar en el código**",
   "id": "15540eede370b1d1"
  },
  {
   "metadata": {
    "ExecuteTime": {
     "end_time": "2025-02-27T06:04:46.913997Z",
     "start_time": "2025-02-27T06:04:38.226566Z"
    }
   },
   "cell_type": "code",
   "source": [
    "import torchvision\n",
    "import torch\n",
    "from torchvision import transforms\n",
    "from torch.utils.data import DataLoader\n",
    "from torch.utils.data import random_split\n",
    "from torchvision.transforms import v2\n",
    "from torch.utils.data import ConcatDataset\n",
    "import matplotlib.pyplot as plt\n",
    "import torch.nn as nn\n",
    "import torch.optim as optim\n",
    "import os\n",
    "import numpy as np\n",
    "import torch.nn.functional as F"
   ],
   "id": "initial_id",
   "outputs": [],
   "execution_count": 1
  },
  {
   "metadata": {},
   "cell_type": "markdown",
   "source": "**Extracción de características**",
   "id": "a9a7f0b0cac9a67"
  },
  {
   "metadata": {},
   "cell_type": "markdown",
   "source": "Primero extraemos la media y desviación estándar de las imágenes para normalizar nuestra data. Posteriormente a esto transformamos la data a escala de grises, un formato de 64x64 pixeles, a tensor y normalizada. Separamos la data en 80% de entrenamiento y 20% de validación.",
   "id": "dc51b5d584ac7fe1"
  },
  {
   "metadata": {
    "ExecuteTime": {
     "end_time": "2025-02-27T06:05:27.012363Z",
     "start_time": "2025-02-27T06:04:57.678547Z"
    }
   },
   "cell_type": "code",
   "source": [
    "# Directorio donde se tiene la data de los kanjis\n",
    "myDir = 'C:/Users/bryan/Documents/8-9/Machine_Learning/Abc/pythonProject/kanjis/muestra-kanjis'\n",
    "# Paso 1: Cargar las imágenes sin normalizar para calcular la media y la desviación estándar\n",
    "transform_no_norm = transforms.Compose([\n",
    "    transforms.Grayscale(num_output_channels=1),  # Convertir a escala de grises (si es necesario)\n",
    "    transforms.ToTensor()  # Convertir las imágenes a tensores (sin normalizar)\n",
    "])\n",
    "# Carga dataset temporal para cálculo de estadísticas\n",
    "temp_dataset = torchvision.datasets.ImageFolder(\n",
    "    root=myDir,\n",
    "    transform=transform_no_norm\n",
    ")\n",
    "# Crea un DataLoader para cargar todas las imágenes en memoria\n",
    "temp_loader = DataLoader(temp_dataset, batch_size=len(temp_dataset), shuffle=False)\n",
    "# Extraer todas las imágenes para calcular la media y desviación estándar\n",
    "data = next(iter(temp_loader))[0]  # Obtiene los tensores de las imágenes (ignora las etiquetas)\n",
    "mean = data.mean().item()  # Calcular la media\n",
    "std = data.std().item()    # Calcular la desviación estándar\n",
    "# Transforma las imágenes a escala de grises, 64x64, tensor y normaliza\n",
    "transform = transforms.Compose([\n",
    "    transforms.Grayscale(num_output_channels=1),  # Convertir a escala de grises\n",
    "    transforms.Resize((64, 64)),  # Redimensionar a 64x64\n",
    "    transforms.ToTensor(),  # Convertir a tensor\n",
    "    transforms.Normalize((mean,), (std,)),  # Normalización\n",
    "])\n",
    "# Usa ImageFolder para cargar las imágenes\n",
    "dataset = torchvision.datasets.ImageFolder(\n",
    "    root=myDir,  # Directorio con las subcarpetas de los kanjis\n",
    "    transform=transform  # Aplicar las transformaciones a las imágenes\n",
    ")\n",
    "# Se divide el dataset en entrenamiento y validación (80% entrenamiento, 20% validación)\n",
    "train_size = int(0.8 * len(dataset))\n",
    "test_size = len(dataset) - train_size\n",
    "train_dataset, test_dataset = random_split(dataset, [train_size, test_size])\n",
    "# Guardamos los 2 datasets para no volver a ejecutar desde 0\n",
    "torch.save(train_dataset, 'train_dataset0.pth')\n",
    "torch.save(test_dataset, 'test_dataset0.pth')\n",
    "# Se imprime la media y desviacion estandar\n",
    "print(mean,std)"
   ],
   "id": "c1f55fa07da85200",
   "outputs": [
    {
     "name": "stdout",
     "output_type": "stream",
     "text": [
      "0.19286365807056427 0.36481571197509766\n"
     ]
    }
   ],
   "execution_count": 2
  },
  {
   "metadata": {},
   "cell_type": "markdown",
   "source": "Guardamos la media y std como un archivo txt para poder ser utilizada sin tener que volver a calcularla",
   "id": "3a255ea201df0442"
  },
  {
   "metadata": {
    "ExecuteTime": {
     "end_time": "2025-02-27T06:05:56.094510Z",
     "start_time": "2025-02-27T06:05:56.079486Z"
    }
   },
   "cell_type": "code",
   "source": [
    "ruta_del_archivo = 'C:/Users/bryan/Documents/8-9/Machine_Learning/Abc/pythonProject/kanjis/mean0.txt'\n",
    "with open(ruta_del_archivo, 'w') as file:\n",
    "    file.write(str(mean))\n",
    "ruta_del_archivo = 'C:/Users/bryan/Documents/8-9/Machine_Learning/Abc/pythonProject/kanjis/std0.txt'\n",
    "with open(ruta_del_archivo, 'w') as file:\n",
    "    file.write(str(std))"
   ],
   "id": "62caf593715eb5d4",
   "outputs": [],
   "execution_count": 3
  },
  {
   "metadata": {},
   "cell_type": "markdown",
   "source": "Podemos cargar la media y desviación estándar con sus valores",
   "id": "ecea1b33c2df244f"
  },
  {
   "metadata": {
    "ExecuteTime": {
     "end_time": "2025-02-27T06:05:59.545117Z",
     "start_time": "2025-02-27T06:05:59.531124Z"
    }
   },
   "cell_type": "code",
   "source": [
    "mean=0.19286365807056427\n",
    "std=0.36481571197509766"
   ],
   "id": "8dac5e98eecfaae0",
   "outputs": [],
   "execution_count": 4
  },
  {
   "metadata": {},
   "cell_type": "markdown",
   "source": "Tambien podemos cargar la media y desviación estándar mediante los archivos de txt guardados",
   "id": "ecdea66c54e07cbd"
  },
  {
   "metadata": {},
   "cell_type": "code",
   "outputs": [],
   "execution_count": null,
   "source": [
    "# Leer el archivo mean.txt\n",
    "ruta_mean = 'C:/Users/bryan/Documents/8-9/Machine_Learning/Abc/pythonProject/kanjis/mean0.txt'\n",
    "with open(ruta_mean, 'r') as file:\n",
    "    mean = eval(file.read()) \n",
    "\n",
    "# Leer el archivo std.txt\n",
    "ruta_std = 'C:/Users/bryan/Documents/8-9/Machine_Learning/Abc/pythonProject/kanjis/std0.txt'\n",
    "with open(ruta_std, 'r') as file:\n",
    "    std = eval(file.read())\n",
    "\n",
    "print(\"Mean:\", mean)\n",
    "print(\"Std:\", std)"
   ],
   "id": "17fb4ffa3247f44e"
  },
  {
   "metadata": {
    "ExecuteTime": {
     "end_time": "2025-02-27T06:08:01.295400Z",
     "start_time": "2025-02-27T06:08:01.147395Z"
    }
   },
   "cell_type": "code",
   "source": [
    "train1=torch.load('train_dataset0.pth',weights_only=False)\n",
    "test1=torch.load('test_dataset0.pth',weights_only=False)"
   ],
   "id": "4dde132ecbae88ed",
   "outputs": [],
   "execution_count": 6
  },
  {
   "metadata": {
    "ExecuteTime": {
     "end_time": "2025-02-27T06:08:02.070293Z",
     "start_time": "2025-02-27T06:08:02.058285Z"
    }
   },
   "cell_type": "code",
   "source": [
    "train_dataset = train1\n",
    "test_dataset = test1"
   ],
   "id": "474e504f00611f03",
   "outputs": [],
   "execution_count": 7
  },
  {
   "metadata": {},
   "cell_type": "markdown",
   "source": "Definimos batches para mejorar el procesamiento y no forzar la RAM ",
   "id": "2becf35789db320d"
  },
  {
   "metadata": {
    "ExecuteTime": {
     "end_time": "2025-02-27T06:08:06.409635Z",
     "start_time": "2025-02-27T06:08:06.397626Z"
    }
   },
   "cell_type": "code",
   "source": [
    "# Cargar los datos en batches\n",
    "batch_size_train = 128\n",
    "batch_size_test = 1000\n",
    "train_loader = DataLoader(train_dataset, batch_size=batch_size_train, shuffle=True)\n",
    "test_loader = DataLoader(test_dataset, batch_size=batch_size_test, shuffle=False)"
   ],
   "id": "419852d001309bdc",
   "outputs": [],
   "execution_count": 8
  },
  {
   "metadata": {},
   "cell_type": "markdown",
   "source": "Observamos parte de la data",
   "id": "aa57e4166d3e259b"
  },
  {
   "metadata": {
    "ExecuteTime": {
     "end_time": "2025-02-27T06:08:23.046383Z",
     "start_time": "2025-02-27T06:08:21.234106Z"
    }
   },
   "cell_type": "code",
   "source": [
    "examples = enumerate(test_loader)\n",
    "batch_idx, (example_data, example_targets) = next(examples)\n",
    "fig = plt.figure()\n",
    "for i in range(20):\n",
    "  plt.subplot(5,4,i+1)\n",
    "  plt.tight_layout()\n",
    "  plt.imshow(example_data[i][0], cmap='gray', interpolation='none')\n",
    "  plt.title(\"Ground Truth: {}\".format(example_targets[i]+1))\n",
    "  plt.xticks([])\n",
    "  plt.yticks([])\n",
    "plt.show()"
   ],
   "id": "30d9bc849b07c0cc",
   "outputs": [
    {
     "data": {
      "text/plain": [
       "<Figure size 640x480 with 20 Axes>"
      ],
      "image/png": "[encoded data removed]"
     },
     "metadata": {},
     "output_type": "display_data"
    }
   ],
   "execution_count": 9
  },
  {
   "metadata": {},
   "cell_type": "markdown",
   "source": "**Modelo de Red neuronal**",
   "id": "dc4581a245ad4757"
  },
  {
   "metadata": {},
   "cell_type": "markdown",
   "source": "Esta red neuronal cuenta con 3 fases seguidas de convolución, ReLU y MaxPool, un par de drops para evitar overfitting, y linears para obtener finalmente las clasificaciones",
   "id": "1d4f0acbfecfba63"
  },
  {
   "metadata": {
    "ExecuteTime": {
     "end_time": "2025-02-27T06:09:47.568494Z",
     "start_time": "2025-02-27T06:09:47.559574Z"
    }
   },
   "cell_type": "code",
   "source": [
    "class Net(nn.Module):\n",
    "    def __init__(self):\n",
    "        super(Net, self).__init__()\n",
    "        self.conv1 = nn.Conv2d(1, 32, kernel_size=3)\n",
    "        self.pool1 = nn.MaxPool2d(2, 2)\n",
    "        self.conv2 = nn.Conv2d(32, 64, kernel_size=3)\n",
    "        self.pool2 = nn.MaxPool2d(2, 2)\n",
    "        self.conv3 = nn.Conv2d(64, 128, kernel_size=3)\n",
    "        self.pool3 = nn.MaxPool2d(2, 2)\n",
    "        self.drop1 = nn.Dropout2d(p=0.25)\n",
    "        self.drop2 = nn.Dropout(p=0.5)\n",
    "        self.fc1 = nn.Linear(128*6*6, 128)\n",
    "        self.fc2 = nn.Linear(128, 50)\n",
    "\n",
    "    def forward(self, x): # Entrada de 1 canal y 64x64 pixeles (1,64,64)\n",
    "        x = self.conv1(x) # Salida (32,64-3+1,64-3+1)=(32,62,62)\n",
    "        x = F.relu(x) # Salida (32,62,62)\n",
    "        x = self.pool1(x) # Salida (32,62/2,62/2)=(32,31,31)\n",
    "        x = self.conv2(x) # Salida (64,31-3+1,31-3+1)=(64,29,29)\n",
    "        x = F.relu(x) # Salida (64,29,29)\n",
    "        x = self.pool2(x) # Salida (64,29/2,29/2)=(64,14,14)\n",
    "        x = self.conv3(x) # Salida (128,14-3+1,14-3+1)=(128,12,12)\n",
    "        x = F.relu(x) # Salida (128,12,12)\n",
    "        x = self.pool3(x) # Salida (128,12/2,12/2)=(128,6,6)\n",
    "        x = self.drop1(x) # Salida (128,6,6)\n",
    "        x = x.flatten(1) # Salida (128x6x6)\n",
    "        x = self.fc1(x) # Salida (128)\n",
    "        x = F.relu(x) # Salida (128)\n",
    "        x = self.drop2(x) # Salida (128)\n",
    "        x = self.fc2(x) # Salida (50)\n",
    "        x = F.log_softmax(x, dim=1)\n",
    "        return x"
   ],
   "id": "4888bdc22404560f",
   "outputs": [],
   "execution_count": 10
  },
  {
   "metadata": {},
   "cell_type": "markdown",
   "source": "**Entrenamiento del modelo**",
   "id": "67d6ad1369910f17"
  },
  {
   "metadata": {},
   "cell_type": "markdown",
   "source": "Inicialización de los pesos",
   "id": "3f8d1b4d5df3c3da"
  },
  {
   "metadata": {
    "ExecuteTime": {
     "end_time": "2025-02-27T06:09:56.755290Z",
     "start_time": "2025-02-27T06:09:56.747289Z"
    }
   },
   "cell_type": "code",
   "source": [
    "def weights_init(layer_in):\n",
    "  if isinstance(layer_in, nn.Linear):\n",
    "    nn.init.kaiming_uniform_(layer_in.weight)\n",
    "    layer_in.bias.data.fill_(0.0)"
   ],
   "id": "3e7d42a2451b3b27",
   "outputs": [],
   "execution_count": 11
  },
  {
   "metadata": {},
   "cell_type": "markdown",
   "source": "Cambiamos a \"cuda\" para poder utilizar la GPU en lugar de la CPU y tener un procesamiento más eficiente",
   "id": "4bbc1b43b1e7762a"
  },
  {
   "metadata": {
    "ExecuteTime": {
     "end_time": "2025-02-27T06:09:58.761469Z",
     "start_time": "2025-02-27T06:09:58.706822Z"
    }
   },
   "cell_type": "code",
   "source": [
    "device = torch.device(\"cuda\" if torch.cuda.is_available() else \"cpu\")\n",
    "print(f\"Usando dispositivo: {device}\")"
   ],
   "id": "55a97e1f319b64de",
   "outputs": [
    {
     "name": "stdout",
     "output_type": "stream",
     "text": [
      "Usando dispositivo: cuda\n"
     ]
    }
   ],
   "execution_count": 12
  },
  {
   "metadata": {},
   "cell_type": "markdown",
   "source": "Inicializamos el modelo, el optimizador y de tener el modelo ya entrenado lo podemos cargar, si se quiere entrenar desde 0 otro modelo se puede comentar la parte de \"model.load_state_dict\"",
   "id": "53328fec908ae5fa"
  },
  {
   "metadata": {
    "ExecuteTime": {
     "end_time": "2025-02-27T06:18:40.837773Z",
     "start_time": "2025-02-27T06:18:40.628713Z"
    }
   },
   "cell_type": "code",
   "source": [
    "# Inicializar modelo\n",
    "model = Net().to(device)\n",
    "# Initializar pesos\n",
    "model.apply(weights_init)\n",
    "# Definir optimizador\n",
    "optimizer = optim.SGD(model.parameters(), lr=0.01, momentum=0.5)\n",
    "# Cargar modelo ya guardado (Comentar si se quiere empezar de 0)\n",
    "model.load_state_dict(torch.load(\"modelo_kanji_50_completo2.pth\",weights_only=False))\n"
   ],
   "id": "b3ba3e8c40fed1f7",
   "outputs": [
    {
     "data": {
      "text/plain": [
       "<All keys matched successfully>"
      ]
     },
     "execution_count": 13,
     "metadata": {},
     "output_type": "execute_result"
    }
   ],
   "execution_count": 13
  },
  {
   "metadata": {},
   "cell_type": "markdown",
   "source": "Definimos nuestra función de entrenamiento",
   "id": "a584692ddf25d32"
  },
  {
   "metadata": {
    "ExecuteTime": {
     "end_time": "2025-02-27T06:18:44.909122Z",
     "start_time": "2025-02-27T06:18:44.901119Z"
    }
   },
   "cell_type": "code",
   "source": [
    "def train(epoch):\n",
    "    model.train()\n",
    "    for batch_idx, (data, target) in enumerate(train_loader):\n",
    "        # Mover datos a GPU si está disponible\n",
    "        data, target = data.to(device), target.to(device)\n",
    "\n",
    "        optimizer.zero_grad()  # Limpiar gradientes acumulados\n",
    "        output = model(data)  # Forward pass\n",
    "        loss = F.nll_loss(output, target)  # Calcular pérdida\n",
    "        loss.backward()  # Backward pass\n",
    "        optimizer.step()  # Actualizar pesos\n",
    "\n",
    "        # Registro periódico\n",
    "        if batch_idx % 10 == 0:\n",
    "            print('Train Epoch: {} [{}/{}]\\tLoss: {:.6f}'.format(\n",
    "                epoch, batch_idx * len(data), len(train_loader.dataset), loss.item()))"
   ],
   "id": "f4085e899b83d195",
   "outputs": [],
   "execution_count": 14
  },
  {
   "metadata": {},
   "cell_type": "markdown",
   "source": "Definimos nuestra función de testeo",
   "id": "c24574a3fb90516d"
  },
  {
   "metadata": {
    "ExecuteTime": {
     "end_time": "2025-02-27T06:18:46.005988Z",
     "start_time": "2025-02-27T06:18:45.994958Z"
    }
   },
   "cell_type": "code",
   "source": [
    "# Run on test data\n",
    "def test():\n",
    "    model.eval()\n",
    "    test_loss = 0\n",
    "    correct = 0\n",
    "    with torch.no_grad():  # Desactiva gradientes\n",
    "        for data, target in test_loader:\n",
    "            # Mover datos a GPU si está disponible\n",
    "            data, target = data.to(device), target.to(device)\n",
    "\n",
    "            output = model(data)  # Forward pass\n",
    "            test_loss += F.nll_loss(output, target, reduction='sum').item()  # Pérdida acumulada\n",
    "            pred = output.argmax(dim=1, keepdim=True)  # Predicciones\n",
    "            correct += pred.eq(target.view_as(pred)).sum().item()  # Acumular correctos\n",
    "\n",
    "    # Pérdida promedio\n",
    "    test_loss /= len(test_loader.dataset)\n",
    "\n",
    "    # Imprimir resultados\n",
    "    print('\\nTest set: Avg. loss: {:.4f}, Accuracy: {}/{} ({:.0f}%)\\n'.format(\n",
    "        test_loss, correct, len(test_loader.dataset),\n",
    "        100. * correct / len(test_loader.dataset)))"
   ],
   "id": "41d85ae327efa124",
   "outputs": [],
   "execution_count": 15
  },
  {
   "metadata": {},
   "cell_type": "markdown",
   "source": "Realizamos el entrenamiento de nuestro modelo, el número de epocas se puede cambiar, además de usar un modelo cargado, este puede seguir entrenandose, para este caso se entrenó por 100 épocas al ser una fase de prueba",
   "id": "24c37dc043c2034a"
  },
  {
   "metadata": {},
   "cell_type": "code",
   "outputs": [],
   "execution_count": null,
   "source": [
    "import torch.nn.functional as F\n",
    "# Get initial performance\n",
    "test()\n",
    "# Train for three epochs\n",
    "n_epochs = 100\n",
    "for epoch in range(1, n_epochs + 1):\n",
    "  train(epoch)\n",
    "  test()"
   ],
   "id": "b0bc89df081dec4e"
  },
  {
   "metadata": {},
   "cell_type": "markdown",
   "source": "Guardar el modelo que se tiene actualmente",
   "id": "6bffafcbd8a17a20"
  },
  {
   "metadata": {
    "ExecuteTime": {
     "end_time": "2025-02-23T15:35:53.228287Z",
     "start_time": "2025-02-23T15:35:53.022273Z"
    }
   },
   "cell_type": "code",
   "source": "torch.save(model.state_dict(), \"modelo_kanji_50_completo2x.pth\")",
   "id": "f5d09cc061cf8c1",
   "outputs": [],
   "execution_count": 26
  },
  {
   "metadata": {},
   "cell_type": "markdown",
   "source": "**Visualización de la validación**",
   "id": "30859b703492b591"
  },
  {
   "metadata": {},
   "cell_type": "markdown",
   "source": "Visualización de algunas predicciones de nuestra data de validación",
   "id": "897929494a8168cd"
  },
  {
   "metadata": {
    "ExecuteTime": {
     "end_time": "2025-02-27T06:19:09.977295Z",
     "start_time": "2025-02-27T06:19:08.910870Z"
    }
   },
   "cell_type": "code",
   "source": [
    "output = model(example_data.to(device))\n",
    "\n",
    "fig = plt.figure()\n",
    "for i in range(10):\n",
    "  plt.subplot(5,5,i+1)\n",
    "  plt.tight_layout()\n",
    "  plt.imshow(example_data[i][0], cmap='gray', interpolation='none')\n",
    "  plt.title(\"Prediction: {}\".format(\n",
    "    output.data.max(1, keepdim=True)[1][i].item()+1))\n",
    "  plt.xticks([])\n",
    "  plt.yticks([])\n",
    "plt.show()"
   ],
   "id": "494d3c96d11b511b",
   "outputs": [
    {
     "data": {
      "text/plain": [
       "<Figure size 640x480 with 10 Axes>"
      ],
      "image/png": "[encoded data removed]"
     },
     "metadata": {},
     "output_type": "display_data"
    }
   ],
   "execution_count": 16
  },
  {
   "metadata": {},
   "cell_type": "markdown",
   "source": "**Prueba con pizarra**",
   "id": "b420ce872061e45a"
  },
  {
   "metadata": {},
   "cell_type": "markdown",
   "source": "Se realizó una pizarra interactiva, en esta dibujas un kanji y al hacer clic en \"Predecir kanji\" te muestra el kanji predicho, entonces al observar tanto el texto como el dibujo se sabe si se realizó de manera correcta, igualmente podemos guardar la imagen si vemos que es una predicción correcta con el botón de \"Guardar imagen\". Al ser pocos kanjis seleccionados se escribieron en un diccionario para poder visualizarlos luego en la pizarra al predecir.",
   "id": "f8a8cc228dd8a9a3"
  },
  {
   "metadata": {
    "ExecuteTime": {
     "end_time": "2025-02-27T06:19:34.433129Z",
     "start_time": "2025-02-27T06:19:15.870325Z"
    }
   },
   "cell_type": "code",
   "source": [
    "import tkinter as tk\n",
    "from tkinter import Button\n",
    "import PIL.ImageGrab as ImageGrab\n",
    "import cv2\n",
    "from PIL import Image, ImageDraw\n",
    "import torch\n",
    "import torchvision.transforms as transforms\n",
    "from PIL import Image, ImageOps\n",
    "import numpy as np\n",
    "import os\n",
    "\n",
    "# Cargar el modelo entrenado\n",
    "modelo = model.to(device)\n",
    "modelo.eval()\n",
    "\n",
    "# Diccionario de clases (ajusta según tu dataset)\n",
    "kanji_classes = {1: \"一\", 2: \"事\", 3: \"云\", 4: \"人\", 5: \"出\", 6:\"又\", 7:\"見\", 8:\"入\", 9:\"大\", 10:\"物\", 11:\"子\",12:\"此\",13:\"其\",14:\"也\",15:\"日\",16:\"小\",17:\"方\",18:\"上\",19:\"是\",20:\"三\",21:\"中\",22:\"何\",23:\"候\",24:\"女\",25:\"国\",26:\"二\",27:\"時\",28:\"今\",29:\"御\",30:\"有\",31:\"所\",32:\"心\",33:\"前\",34:\"合\",35:\"水\",36:\"身\",37:\"五\",38:\"山\",39:\"十\",40:\"同\",41:\"汁\",42:\"給\",43:\"手\",44:\"立\",45:\"蚕\",46:\"様\",47:\"之\",48:\"下\",49:\"吉\",50:\"世\"}\n",
    "\n",
    "# Crear la ventana\n",
    "root = tk.Tk()\n",
    "root.title(\"Pizarra de Kanji\")\n",
    "\n",
    "# Canvas de dibujo (ajustado para ser más grande que 28x28 para comodidad)\n",
    "canvas_size = 256\n",
    "canvas = tk.Canvas(root, width=canvas_size, height=canvas_size, bg=\"black\")\n",
    "canvas.pack()\n",
    "\n",
    "image1 = Image.new(\"RGB\", (canvas_size, canvas_size), (0,0,0))\n",
    "draw2 = ImageDraw.Draw(image1)\n",
    "\n",
    "# Variables para dibujar\n",
    "def start_drawing(event):\n",
    "    canvas.old_x, canvas.old_y = event.x, event.y\n",
    "\n",
    "def draw(event):\n",
    "    x, y = event.x, event.y\n",
    "    canvas.create_line(canvas.old_x, canvas.old_y, x, y, width=10, fill=\"white\", capstyle=tk.ROUND, smooth=tk.TRUE)\n",
    "    draw2.line([canvas.old_x, canvas.old_y, x, y], (255,255,255),width=10)\n",
    "    canvas.old_x, canvas.old_y = x, y\n",
    "\n",
    "canvas.bind(\"<Button-1>\", start_drawing)\n",
    "canvas.bind(\"<B1-Motion>\", draw)\n",
    "\n",
    "ruta_del_archivo = 'C:/Users/bryan/Documents/8-9/Machine_Learning/Abc/pythonProject/kanjis/contador.txt'\n",
    "    \n",
    "with open(ruta_del_archivo, 'r') as file:\n",
    "        contenido = file.read()\n",
    "contador=int(contenido)\n",
    "# Función para guardar la imagen y predecir\n",
    "def guardar_y_predecir():\n",
    "\n",
    "    image1.save('C:/Users/bryan/Documents/8-9/Machine_Learning/Abc/pythonProject/kanjis/kanjis_dibujados/img1.png')\n",
    "\n",
    "    # Convertir a tensor y normalizar\n",
    "    transform = transforms.Compose([\n",
    "    transforms.Grayscale(num_output_channels=1),  # Convertir a escala de grises (si es necesario)\n",
    "    transforms.Resize((64, 64)),  # Redimensionar las imágenes a 28x28 (como MNIST)\n",
    "    transforms.ToTensor(),  # Convertir las imágenes a tensores\n",
    "    transforms.Normalize((mean), (std,)),  # Normalizar las imágenes\n",
    "])\n",
    "    imagen_tensor = transform(image1).unsqueeze(0)  # Agregar dimensión batch\n",
    "\n",
    "    # Hacer la predicción con el modelo\n",
    "    imagen_tensor = imagen_tensor.to(device)\n",
    "    salida = model(imagen_tensor)\n",
    "    prediccion=salida.data.max(1, keepdim=True)[1].item()\n",
    "    # Mostrar el resultado\n",
    "    resultado_label.config(text=f\"Predicción: {kanji_classes[prediccion+1]}\")\n",
    "    return prediccion\n",
    "\n",
    "    \n",
    "# Botón para guardar y predecir\n",
    "boton_guardar = Button(root, text=\"Predecir Kanji\", command=guardar_y_predecir)\n",
    "boton_guardar.pack()\n",
    "\n",
    "# Etiqueta para mostrar la predicción\n",
    "resultado_label = tk.Label(root, text=\"Dibuja un Kanji y presiona 'Predecir Kanji'\", font=(\"Arial\", 14))\n",
    "resultado_label.pack()\n",
    "\n",
    "# Botón para limpiar la pizarra\n",
    "# Función para limpiar el canvas y reiniciar la imagen\n",
    "def limpiar_canvas():\n",
    "    # Limpiar el canvas de dibujo\n",
    "    canvas.delete(\"all\")\n",
    "    \n",
    "    # Reiniciar la imagen asociada\n",
    "    global image1, draw2\n",
    "    image1 = Image.new(\"RGB\", (canvas_size, canvas_size), (0, 0, 0))  # Nueva imagen en negro\n",
    "    draw2 = ImageDraw.Draw(image1)  # Nuevo objeto ImageDraw para la imagen limpia\n",
    "\n",
    "    \n",
    "\n",
    "boton_limpiar = Button(root, text=\"Limpiar\", command=limpiar_canvas)\n",
    "boton_limpiar.pack()\n",
    "\n",
    "root.mainloop()\n"
   ],
   "id": "580564b1316fbc57",
   "outputs": [],
   "execution_count": 17
  }
 ],
 "metadata": {
  "kernelspec": {
   "display_name": "Python 3",
   "language": "python",
   "name": "python3"
  },
  "language_info": {
   "codemirror_mode": {
    "name": "ipython",
    "version": 2
   },
   "file_extension": ".py",
   "mimetype": "text/x-python",
   "name": "python",
   "nbconvert_exporter": "python",
   "pygments_lexer": "ipython2",
   "version": "2.7.6"
  }
 },
 "nbformat": 4,
 "nbformat_minor": 5
}
